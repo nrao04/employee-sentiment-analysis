{
 "cells": [
  {
   "cell_type": "markdown",
   "metadata": {},
   "source": [
    "# Employee Sentiment Analysis\n",
    "\n",
    "**Project Overview:**  \n",
    "This project analyzes an unlabeled dataset of employee messages to evaluate sentiment and engagement. The analysis covers:\n",
    "\n",
    "- **Sentiment Labeling:** Classifying each message as Positive, Negative, or Neutral using NLTK’s VADER (with numerical scores +1, -1, 0).\n",
    "- **Exploratory Data Analysis (EDA):** Generating visualizations to understand data structure, sentiment distribution, monthly message frequency, and average sentiment.\n",
    "- **Employee Score Calculation:** Computing monthly sentiment scores for each employee.\n",
    "- **Employee Ranking:** Creating monthly ranking lists:\n",
    "  - Top Three Positive Employees (highest positive scores).\n",
    "  - Top Three Negative Employees (lowest scores).\n",
    "- **Flight Risk Identification:** Flagging employees as potential flight risks if they send four or more negative messages in any rolling 30-day period.\n",
    "- **Predictive Modeling:** Building a linear regression model (using scikit-learn) to forecast monthly sentiment trends, evaluated via mean squared error (MSE).\n",
    "\n",
    "This notebook implements all tasks and generates the required visualizations and outputs.\n"
   ]
  }
 ],
 "metadata": {
  "language_info": {
   "name": "python"
  }
 },
 "nbformat": 4,
 "nbformat_minor": 2
}
